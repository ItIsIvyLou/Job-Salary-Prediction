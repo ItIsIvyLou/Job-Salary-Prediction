{
 "cells": [
  {
   "cell_type": "markdown",
   "metadata": {},
   "source": [
    "# Ivy Individual Project"
   ]
  },
  {
   "cell_type": "markdown",
   "metadata": {},
   "source": [
    "Dataset URL: http://www.kaggle.com/c/job-salary-prediction"
   ]
  },
  {
   "cell_type": "markdown",
   "metadata": {},
   "source": [
    "## Libraries"
   ]
  },
  {
   "cell_type": "code",
   "execution_count": 52,
   "metadata": {},
   "outputs": [],
   "source": [
    "import pandas as pd\n",
    "import numpy as np\n",
    "import seaborn as sns\n",
    "import matplotlib.pyplot as plt\n",
    "from sklearn.model_selection import train_test_split, StratifiedShuffleSplit\n",
    "import nltk\n",
    "from sklearn.feature_extraction.text import TfidfVectorizer, CountVectorizer\n",
    "from sklearn.pipeline import Pipeline\n",
    "from sklearn.naive_bayes import MultinomialNB\n",
    "from sklearn.metrics import confusion_matrix, accuracy_score, classification_report\n",
    "from nltk.tokenize import RegexpTokenizer\n",
    "from nltk.stem import WordNetLemmatizer,PorterStemmer\n",
    "from nltk.corpus import stopwords\n",
    "import re\n",
    "from sklearn.model_selection import GridSearchCV"
   ]
  },
  {
   "cell_type": "code",
   "execution_count": 2,
   "metadata": {},
   "outputs": [],
   "source": [
    "train_data = pd.read_csv(\"Train_rev1.csv\")\n",
    "selected_data = train_data.sample(n=2500, random_state=42) # randomly select 2500 data points\n",
    "\n",
    "## Save to new data file to prevent using the big data every time\n",
    "# selected_data.to_csv(\"selected_salary_data.csv\"bb, index=False) "
   ]
  },
  {
   "cell_type": "code",
   "execution_count": 7,
   "metadata": {},
   "outputs": [
    {
     "name": "stdout",
     "output_type": "stream",
     "text": [
      "<class 'pandas.core.frame.DataFrame'>\n",
      "RangeIndex: 2500 entries, 0 to 2499\n",
      "Data columns (total 12 columns):\n",
      " #   Column              Non-Null Count  Dtype \n",
      "---  ------              --------------  ----- \n",
      " 0   Id                  2500 non-null   int64 \n",
      " 1   Title               2500 non-null   object\n",
      " 2   FullDescription     2500 non-null   object\n",
      " 3   LocationRaw         2500 non-null   object\n",
      " 4   LocationNormalized  2500 non-null   object\n",
      " 5   ContractType        685 non-null    object\n",
      " 6   ContractTime        1859 non-null   object\n",
      " 7   Company             2157 non-null   object\n",
      " 8   Category            2500 non-null   object\n",
      " 9   SalaryRaw           2500 non-null   object\n",
      " 10  SalaryNormalized    2500 non-null   int64 \n",
      " 11  SourceName          2500 non-null   object\n",
      "dtypes: int64(2), object(10)\n",
      "memory usage: 234.5+ KB\n"
     ]
    }
   ],
   "source": [
    "data = pd.read_csv(\"selected_salary_data.csv\")\n",
    "data.info()"
   ]
  },
  {
   "cell_type": "code",
   "execution_count": 8,
   "metadata": {},
   "outputs": [
    {
     "data": {
      "text/html": [
       "<div>\n",
       "<style scoped>\n",
       "    .dataframe tbody tr th:only-of-type {\n",
       "        vertical-align: middle;\n",
       "    }\n",
       "\n",
       "    .dataframe tbody tr th {\n",
       "        vertical-align: top;\n",
       "    }\n",
       "\n",
       "    .dataframe thead th {\n",
       "        text-align: right;\n",
       "    }\n",
       "</style>\n",
       "<table border=\"1\" class=\"dataframe\">\n",
       "  <thead>\n",
       "    <tr style=\"text-align: right;\">\n",
       "      <th></th>\n",
       "      <th>Id</th>\n",
       "      <th>Title</th>\n",
       "      <th>FullDescription</th>\n",
       "      <th>LocationRaw</th>\n",
       "      <th>LocationNormalized</th>\n",
       "      <th>ContractType</th>\n",
       "      <th>ContractTime</th>\n",
       "      <th>Company</th>\n",
       "      <th>Category</th>\n",
       "      <th>SalaryRaw</th>\n",
       "      <th>SalaryNormalized</th>\n",
       "      <th>SourceName</th>\n",
       "    </tr>\n",
       "  </thead>\n",
       "  <tbody>\n",
       "    <tr>\n",
       "      <th>0</th>\n",
       "      <td>68062598</td>\n",
       "      <td>Business Account Manager</td>\n",
       "      <td>Business Account Manager  Plumbing Heating Pro...</td>\n",
       "      <td>South West</td>\n",
       "      <td>South West London</td>\n",
       "      <td>NaN</td>\n",
       "      <td>permanent</td>\n",
       "      <td>BMS Sales Specialists</td>\n",
       "      <td>Sales Jobs</td>\n",
       "      <td>22000 - 25000 per annum + Car,Mobile,Pension,L...</td>\n",
       "      <td>23500</td>\n",
       "      <td>totaljobs.com</td>\n",
       "    </tr>\n",
       "    <tr>\n",
       "      <th>1</th>\n",
       "      <td>69622111</td>\n",
       "      <td>Staff Nurse RGN/RMN  Newtown Abbey  Nights  Ne...</td>\n",
       "      <td>Job Title; Staff Nurse RGN/RMN – NightsLocatio...</td>\n",
       "      <td>Newtownabbey</td>\n",
       "      <td>Newtownabbey</td>\n",
       "      <td>full_time</td>\n",
       "      <td>NaN</td>\n",
       "      <td>Regional Recruitment Services</td>\n",
       "      <td>Healthcare &amp; Nursing Jobs</td>\n",
       "      <td>12.00/Hour</td>\n",
       "      <td>23040</td>\n",
       "      <td>staffnurse.com</td>\n",
       "    </tr>\n",
       "    <tr>\n",
       "      <th>2</th>\n",
       "      <td>66664026</td>\n",
       "      <td>Community Fundraising Manager</td>\n",
       "      <td>This dynamic international development charity...</td>\n",
       "      <td>London</td>\n",
       "      <td>London</td>\n",
       "      <td>full_time</td>\n",
       "      <td>permanent</td>\n",
       "      <td>TPP Not for Profit</td>\n",
       "      <td>Charity &amp; Voluntary Jobs</td>\n",
       "      <td>33300 - 36400 per annum</td>\n",
       "      <td>34850</td>\n",
       "      <td>Third Sector Jobs</td>\n",
       "    </tr>\n",
       "    <tr>\n",
       "      <th>3</th>\n",
       "      <td>71015241</td>\n",
       "      <td>Conveyancing Executive</td>\n",
       "      <td>Large regional law firm require a residential ...</td>\n",
       "      <td>Hampshire</td>\n",
       "      <td>Hampshire</td>\n",
       "      <td>full_time</td>\n",
       "      <td>permanent</td>\n",
       "      <td>PTP Consulting</td>\n",
       "      <td>Legal Jobs</td>\n",
       "      <td>From 18,000 to 27,000 per year</td>\n",
       "      <td>22500</td>\n",
       "      <td>TotallyLegal</td>\n",
       "    </tr>\n",
       "    <tr>\n",
       "      <th>4</th>\n",
       "      <td>71428553</td>\n",
       "      <td>Investment Compliance Analyst</td>\n",
       "      <td>This individual will work closely with the bus...</td>\n",
       "      <td>London South East</td>\n",
       "      <td>South East London</td>\n",
       "      <td>NaN</td>\n",
       "      <td>permanent</td>\n",
       "      <td>Michael Page Financial Services</td>\n",
       "      <td>Accounting &amp; Finance Jobs</td>\n",
       "      <td>50000 to 60000 per annum</td>\n",
       "      <td>55000</td>\n",
       "      <td>totaljobs.com</td>\n",
       "    </tr>\n",
       "  </tbody>\n",
       "</table>\n",
       "</div>"
      ],
      "text/plain": [
       "         Id  ...         SourceName\n",
       "0  68062598  ...      totaljobs.com\n",
       "1  69622111  ...     staffnurse.com\n",
       "2  66664026  ...  Third Sector Jobs\n",
       "3  71015241  ...       TotallyLegal\n",
       "4  71428553  ...      totaljobs.com\n",
       "\n",
       "[5 rows x 12 columns]"
      ]
     },
     "execution_count": 8,
     "metadata": {},
     "output_type": "execute_result"
    }
   ],
   "source": [
    "data.head(5)"
   ]
  },
  {
   "cell_type": "code",
   "execution_count": 9,
   "metadata": {},
   "outputs": [
    {
     "data": {
      "text/html": [
       "<div>\n",
       "<style scoped>\n",
       "    .dataframe tbody tr th:only-of-type {\n",
       "        vertical-align: middle;\n",
       "    }\n",
       "\n",
       "    .dataframe tbody tr th {\n",
       "        vertical-align: top;\n",
       "    }\n",
       "\n",
       "    .dataframe thead th {\n",
       "        text-align: right;\n",
       "    }\n",
       "</style>\n",
       "<table border=\"1\" class=\"dataframe\">\n",
       "  <thead>\n",
       "    <tr style=\"text-align: right;\">\n",
       "      <th></th>\n",
       "      <th>Id</th>\n",
       "      <th>SalaryNormalized</th>\n",
       "    </tr>\n",
       "  </thead>\n",
       "  <tbody>\n",
       "    <tr>\n",
       "      <th>count</th>\n",
       "      <td>2.500000e+03</td>\n",
       "      <td>2500.000000</td>\n",
       "    </tr>\n",
       "    <tr>\n",
       "      <th>mean</th>\n",
       "      <td>6.973466e+07</td>\n",
       "      <td>33764.077200</td>\n",
       "    </tr>\n",
       "    <tr>\n",
       "      <th>std</th>\n",
       "      <td>2.976468e+06</td>\n",
       "      <td>16670.019292</td>\n",
       "    </tr>\n",
       "    <tr>\n",
       "      <th>min</th>\n",
       "      <td>2.957032e+07</td>\n",
       "      <td>5088.000000</td>\n",
       "    </tr>\n",
       "    <tr>\n",
       "      <th>25%</th>\n",
       "      <td>6.869990e+07</td>\n",
       "      <td>21500.000000</td>\n",
       "    </tr>\n",
       "    <tr>\n",
       "      <th>50%</th>\n",
       "      <td>6.993177e+07</td>\n",
       "      <td>30000.000000</td>\n",
       "    </tr>\n",
       "    <tr>\n",
       "      <th>75%</th>\n",
       "      <td>7.160582e+07</td>\n",
       "      <td>42500.000000</td>\n",
       "    </tr>\n",
       "    <tr>\n",
       "      <th>max</th>\n",
       "      <td>7.270293e+07</td>\n",
       "      <td>100000.000000</td>\n",
       "    </tr>\n",
       "  </tbody>\n",
       "</table>\n",
       "</div>"
      ],
      "text/plain": [
       "                 Id  SalaryNormalized\n",
       "count  2.500000e+03       2500.000000\n",
       "mean   6.973466e+07      33764.077200\n",
       "std    2.976468e+06      16670.019292\n",
       "min    2.957032e+07       5088.000000\n",
       "25%    6.869990e+07      21500.000000\n",
       "50%    6.993177e+07      30000.000000\n",
       "75%    7.160582e+07      42500.000000\n",
       "max    7.270293e+07     100000.000000"
      ]
     },
     "execution_count": 9,
     "metadata": {},
     "output_type": "execute_result"
    }
   ],
   "source": [
    "data.describe()"
   ]
  },
  {
   "cell_type": "markdown",
   "metadata": {},
   "source": [
    "## EDA & Preprocess"
   ]
  },
  {
   "cell_type": "markdown",
   "metadata": {},
   "source": [
    "### Categorical Variables"
   ]
  },
  {
   "cell_type": "code",
   "execution_count": 10,
   "metadata": {},
   "outputs": [
    {
     "name": "stdout",
     "output_type": "stream",
     "text": [
      "Number of Unique Location: 493 , Location Category (Top 5):\n",
      "LocationNormalized\n",
      "UK                   452\n",
      "London               295\n",
      "South East London    104\n",
      "The City              67\n",
      "Manchester            39\n",
      "Name: count, dtype: int64\n",
      "-----------------------\n",
      "Contract Type Category:\n",
      "ContractType\n",
      "full_time    603\n",
      "part_time     82\n",
      "Name: count, dtype: int64\n",
      "-----------------------\n",
      "Contract Time Category:\n",
      "ContractTime\n",
      "permanent    1585\n",
      "contract      274\n",
      "Name: count, dtype: int64\n",
      "-----------------------\n",
      "Number of Unique Source: 125 , Source Category (Top 5):\n",
      "SourceName\n",
      "totaljobs.com       487\n",
      "cv-library.co.uk    353\n",
      "Jobcentre Plus      190\n",
      "jobsite.co.uk       119\n",
      "cwjobs.co.uk         72\n",
      "Name: count, dtype: int64\n"
     ]
    }
   ],
   "source": [
    "unique_location = data['LocationNormalized'].nunique()\n",
    "unique_source = data['SourceName'].nunique()\n",
    "\n",
    "location = data['LocationNormalized'].value_counts()\n",
    "contract_type = data['ContractType'].value_counts()\n",
    "contract_time = data['ContractTime'].value_counts()\n",
    "source = data['SourceName'].value_counts()\n",
    "\n",
    "print('Number of Unique Location:', unique_location, ', Location Category (Top 5):')\n",
    "print(location.head(5))\n",
    "print('-----------------------')\n",
    "print('Contract Type Category:')\n",
    "print(contract_type)\n",
    "print('-----------------------')\n",
    "print('Contract Time Category:')\n",
    "print(contract_time)\n",
    "print('-----------------------')\n",
    "print('Number of Unique Source:', unique_source, ', Source Category (Top 5):')\n",
    "print(source.head(5))"
   ]
  },
  {
   "cell_type": "markdown",
   "metadata": {},
   "source": [
    "### Missing Values"
   ]
  },
  {
   "cell_type": "code",
   "execution_count": 11,
   "metadata": {},
   "outputs": [
    {
     "name": "stdout",
     "output_type": "stream",
     "text": [
      "Missing values:\n",
      "Id                       0\n",
      "Title                    0\n",
      "FullDescription          0\n",
      "LocationRaw              0\n",
      "LocationNormalized       0\n",
      "ContractType          1815\n",
      "ContractTime           641\n",
      "Company                343\n",
      "Category                 0\n",
      "SalaryRaw                0\n",
      "SalaryNormalized         0\n",
      "SourceName               0\n",
      "dtype: int64\n"
     ]
    }
   ],
   "source": [
    "missing_value = data.isna().sum()\n",
    "print('Missing values:')\n",
    "print(missing_value)"
   ]
  },
  {
   "cell_type": "code",
   "execution_count": 12,
   "metadata": {},
   "outputs": [
    {
     "name": "stdout",
     "output_type": "stream",
     "text": [
      "Missing values:\n",
      "Id                    0\n",
      "Title                 0\n",
      "FullDescription       0\n",
      "LocationRaw           0\n",
      "LocationNormalized    0\n",
      "ContractType          0\n",
      "ContractTime          0\n",
      "Company               0\n",
      "Category              0\n",
      "SalaryRaw             0\n",
      "SalaryNormalized      0\n",
      "SourceName            0\n",
      "dtype: int64\n"
     ]
    }
   ],
   "source": [
    "data.fillna('', inplace=True)\n",
    "missing_value = data.isna().sum()\n",
    "print('Missing values:')\n",
    "print(missing_value)"
   ]
  },
  {
   "cell_type": "code",
   "execution_count": 13,
   "metadata": {},
   "outputs": [
    {
     "data": {
      "image/png": "[encoded data removed]",
      "text/plain": [
       "<Figure size 800x300 with 1 Axes>"
      ]
     },
     "metadata": {},
     "output_type": "display_data"
    }
   ],
   "source": [
    "Q1 = data['SalaryNormalized'].quantile(0.25)\n",
    "Q2 = data['SalaryNormalized'].quantile(0.5)\n",
    "Q3 = data['SalaryNormalized'].quantile(0.75)\n",
    "\n",
    "plt.figure(figsize=(8, 3))\n",
    "plt.hist(data['SalaryNormalized'], bins=30, color='darkgrey', edgecolor='black')\n",
    "plt.title('Distribution of Normalized Salary')\n",
    "plt.xlabel('Normalized Salary')\n",
    "plt.ylabel('Frequency')\n",
    "\n",
    "plt.axvline(x=Q1, color='palevioletred', linestyle='--', label='Q1: {}'.format(int(Q1)))\n",
    "plt.axvline(x=Q2, color='cornflowerblue', linestyle='--', label='Q2: {}'.format(int(Q2)))\n",
    "plt.axvline(x=Q3, color='yellowgreen', linestyle='--', label='Q3: {}'.format(int(Q3)))\n",
    "\n",
    "plt.legend()\n",
    "plt.show()"
   ]
  },
  {
   "cell_type": "markdown",
   "metadata": {},
   "source": [
    "### Identify high/low salary"
   ]
  },
  {
   "cell_type": "code",
   "execution_count": 14,
   "metadata": {},
   "outputs": [
    {
     "data": {
      "text/html": [
       "<div>\n",
       "<style scoped>\n",
       "    .dataframe tbody tr th:only-of-type {\n",
       "        vertical-align: middle;\n",
       "    }\n",
       "\n",
       "    .dataframe tbody tr th {\n",
       "        vertical-align: top;\n",
       "    }\n",
       "\n",
       "    .dataframe thead th {\n",
       "        text-align: right;\n",
       "    }\n",
       "</style>\n",
       "<table border=\"1\" class=\"dataframe\">\n",
       "  <thead>\n",
       "    <tr style=\"text-align: right;\">\n",
       "      <th></th>\n",
       "      <th>Id</th>\n",
       "      <th>Title</th>\n",
       "      <th>FullDescription</th>\n",
       "      <th>LocationRaw</th>\n",
       "      <th>LocationNormalized</th>\n",
       "      <th>ContractType</th>\n",
       "      <th>ContractTime</th>\n",
       "      <th>Company</th>\n",
       "      <th>Category</th>\n",
       "      <th>SalaryRaw</th>\n",
       "      <th>SalaryNormalized</th>\n",
       "      <th>SourceName</th>\n",
       "      <th>HighSalary</th>\n",
       "    </tr>\n",
       "  </thead>\n",
       "  <tbody>\n",
       "    <tr>\n",
       "      <th>0</th>\n",
       "      <td>68062598</td>\n",
       "      <td>Business Account Manager</td>\n",
       "      <td>Business Account Manager  Plumbing Heating Pro...</td>\n",
       "      <td>South West</td>\n",
       "      <td>South West London</td>\n",
       "      <td></td>\n",
       "      <td>permanent</td>\n",
       "      <td>BMS Sales Specialists</td>\n",
       "      <td>Sales Jobs</td>\n",
       "      <td>22000 - 25000 per annum + Car,Mobile,Pension,L...</td>\n",
       "      <td>23500</td>\n",
       "      <td>totaljobs.com</td>\n",
       "      <td>0</td>\n",
       "    </tr>\n",
       "    <tr>\n",
       "      <th>1</th>\n",
       "      <td>69622111</td>\n",
       "      <td>Staff Nurse RGN/RMN  Newtown Abbey  Nights  Ne...</td>\n",
       "      <td>Job Title; Staff Nurse RGN/RMN – NightsLocatio...</td>\n",
       "      <td>Newtownabbey</td>\n",
       "      <td>Newtownabbey</td>\n",
       "      <td>full_time</td>\n",
       "      <td></td>\n",
       "      <td>Regional Recruitment Services</td>\n",
       "      <td>Healthcare &amp; Nursing Jobs</td>\n",
       "      <td>12.00/Hour</td>\n",
       "      <td>23040</td>\n",
       "      <td>staffnurse.com</td>\n",
       "      <td>0</td>\n",
       "    </tr>\n",
       "    <tr>\n",
       "      <th>2</th>\n",
       "      <td>66664026</td>\n",
       "      <td>Community Fundraising Manager</td>\n",
       "      <td>This dynamic international development charity...</td>\n",
       "      <td>London</td>\n",
       "      <td>London</td>\n",
       "      <td>full_time</td>\n",
       "      <td>permanent</td>\n",
       "      <td>TPP Not for Profit</td>\n",
       "      <td>Charity &amp; Voluntary Jobs</td>\n",
       "      <td>33300 - 36400 per annum</td>\n",
       "      <td>34850</td>\n",
       "      <td>Third Sector Jobs</td>\n",
       "      <td>0</td>\n",
       "    </tr>\n",
       "  </tbody>\n",
       "</table>\n",
       "</div>"
      ],
      "text/plain": [
       "         Id  ... HighSalary\n",
       "0  68062598  ...          0\n",
       "1  69622111  ...          0\n",
       "2  66664026  ...          0\n",
       "\n",
       "[3 rows x 13 columns]"
      ]
     },
     "execution_count": 14,
     "metadata": {},
     "output_type": "execute_result"
    }
   ],
   "source": [
    "process_data = data.copy()\n",
    "\n",
    "process_data['HighSalary'] = (process_data['SalaryNormalized'] >= Q3).astype(int)\n",
    "\n",
    "process_data.head(3)"
   ]
  },
  {
   "cell_type": "markdown",
   "metadata": {},
   "source": [
    "### Feature selection"
   ]
  },
  {
   "cell_type": "code",
   "execution_count": 15,
   "metadata": {},
   "outputs": [],
   "source": [
    "process_data['Text'] = process_data['Title'] + ' ' + process_data['FullDescription'] + ' ' + \\\n",
    "    process_data['LocationNormalized'] + ' ' + process_data['ContractType'] + ' ' + \\\n",
    "    process_data['ContractTime'] + ' ' + process_data['Category'] + ' ' + process_data['SourceName'] "
   ]
  },
  {
   "cell_type": "markdown",
   "metadata": {},
   "source": [
    "### Preprocess and Lemmatization"
   ]
  },
  {
   "cell_type": "code",
   "execution_count": 28,
   "metadata": {},
   "outputs": [],
   "source": [
    "clean_data = process_data.copy()\n",
    "\n",
    "#nltk.download('stopwords')\n",
    "#nltk.download('punkt')\n",
    "#nltk.download('wordnet')\n",
    "\n",
    "stop_words_set = set(stopwords.words('english'))\n",
    "lemmatizer = WordNetLemmatizer()\n",
    "\n",
    "def pre_process(text, apply_lemmatization=False):\n",
    "    \n",
    "    # lowercase\n",
    "    text=str(text).lower()\n",
    "\n",
    "    # remove numbers followed by dot (like, \"1.\", \"2.\", etc)\n",
    "    text=re.sub(r'[^\\s]*[0-9]+[^\\s]*', \"\", text)\n",
    "    \n",
    "    #remove tags\n",
    "    text=re.sub(r\"&lt;/?.*?&gt;\",\" &lt;&gt; \",text)\n",
    "\n",
    "    #remove urls\n",
    "    text=re.sub(r'[^\\s]*(\\.com|www\\.|\\.co\\.uk)[^\\s]*', \"\", text)\n",
    "\n",
    "    #remove stars\n",
    "    text=re.sub(r'[^\\s]*[\\*]+[^\\s]*', \"\", text)\n",
    "    \n",
    "    # correct some misspellings and/or replace some text with others that might be easier to handle\n",
    "    text=text.replace('do not', \"don't\")\n",
    "    \n",
    "    # remove special characters except spaces, apostrophes and dots\n",
    "    text=re.sub(r\"[^a-zA-Z0-9.']+\", ' ', text)\n",
    "    \n",
    "    # lemmatization and remove stop words\n",
    "    if apply_lemmatization:\n",
    "        words = text.split()\n",
    "        lemmatized_words = [lemmatizer.lemmatize(word) for word in words if word not in stop_words_set]\n",
    "        text = ' '.join(lemmatized_words)\n",
    "    else:\n",
    "        text = ' '.join([word for word in text.split() if word not in stop_words_set])\n",
    "    \n",
    "    return text"
   ]
  },
  {
   "cell_type": "markdown",
   "metadata": {},
   "source": [
    "### Two version of clean data"
   ]
  },
  {
   "cell_type": "code",
   "execution_count": 29,
   "metadata": {},
   "outputs": [],
   "source": [
    "clean_data['Text_process'] = clean_data['Text'].apply(pre_process)\n",
    "clean_data['Text_process_Lem'] = clean_data['Text'].apply(lambda x: pre_process(x, apply_lemmatization=True))"
   ]
  },
  {
   "cell_type": "code",
   "execution_count": 34,
   "metadata": {},
   "outputs": [],
   "source": [
    "X_no_lem = clean_data['Text_process']\n",
    "X_lem = clean_data['Text_process_Lem']\n",
    "y = clean_data['HighSalary']"
   ]
  },
  {
   "cell_type": "markdown",
   "metadata": {},
   "source": [
    "### Train Test Split"
   ]
  },
  {
   "cell_type": "code",
   "execution_count": 35,
   "metadata": {},
   "outputs": [],
   "source": [
    "X_no_lem_train, X_no_lem_test, y_train, y_test = train_test_split(X_no_lem, y, test_size=0.2, random_state=42)\n",
    "X_lem_train, X_lem_test, y_train, y_test = train_test_split(X_lem, y, test_size=0.2, random_state=42)"
   ]
  },
  {
   "cell_type": "markdown",
   "metadata": {},
   "source": [
    "## Model"
   ]
  },
  {
   "cell_type": "markdown",
   "metadata": {},
   "source": [
    "### Count Vectorizer"
   ]
  },
  {
   "cell_type": "code",
   "execution_count": 45,
   "metadata": {},
   "outputs": [
    {
     "name": "stdout",
     "output_type": "stream",
     "text": [
      "Accuracy (No Lemmatization): 0.786\n",
      "Classicication Report (No Lemmatization):\n",
      "              precision    recall  f1-score   support\n",
      "\n",
      "           0       0.88      0.82      0.85       368\n",
      "           1       0.58      0.68      0.63       132\n",
      "\n",
      "    accuracy                           0.79       500\n",
      "   macro avg       0.73      0.75      0.74       500\n",
      "weighted avg       0.80      0.79      0.79       500\n",
      "\n",
      "Accuracy (Lemmatization): 0.782\n",
      "Classicication Report (Lemmatization):\n",
      "              precision    recall  f1-score   support\n",
      "\n",
      "           0       0.87      0.83      0.85       368\n",
      "           1       0.58      0.66      0.61       132\n",
      "\n",
      "    accuracy                           0.78       500\n",
      "   macro avg       0.72      0.74      0.73       500\n",
      "weighted avg       0.79      0.78      0.79       500\n",
      "\n"
     ]
    }
   ],
   "source": [
    "count_vect = CountVectorizer(stop_words='english')\n",
    "\n",
    "X_no_lem_train_count = count_vect.fit_transform(X_no_lem_train)\n",
    "X_no_lem_test_count = count_vect.transform(X_no_lem_test)\n",
    "\n",
    "X_lem_train_count = count_vect.fit_transform(X_lem_train)\n",
    "X_lem_test_count = count_vect.transform(X_lem_test)\n",
    "\n",
    "# Naive Bayes Model for No Lemmatization\n",
    "nb_no_lem_count = MultinomialNB()\n",
    "nb_no_lem_count.fit(X_no_lem_train_count, y_train)\n",
    "\n",
    "# Naive Bayes Model for Lemmatization\n",
    "nb_lem_count = MultinomialNB()\n",
    "nb_lem_count.fit(X_lem_train_count, y_train)\n",
    "\n",
    "# Prediction and Evaluation\n",
    "y_pred_no_lem_count = nb_no_lem.predict(X_no_lem_test_count)\n",
    "y_pred_lem_count = nb_lem.predict(X_lem_test_count)\n",
    "print(\"Accuracy (No Lemmatization):\", accuracy_score(y_test, y_pred_no_lem_count))\n",
    "print(\"Classicication Report (No Lemmatization):\")\n",
    "print(classification_report(y_test, y_pred_no_lem_count))\n",
    "print(\"Accuracy (Lemmatization):\", accuracy_score(y_test, y_pred_lem_count))\n",
    "print(\"Classicication Report (Lemmatization):\")\n",
    "print(classification_report(y_test, y_pred_lem_count))"
   ]
  },
  {
   "cell_type": "markdown",
   "metadata": {},
   "source": [
    "### TFIDF Vectorizer"
   ]
  },
  {
   "cell_type": "code",
   "execution_count": 46,
   "metadata": {},
   "outputs": [
    {
     "name": "stdout",
     "output_type": "stream",
     "text": [
      "Accuracy (No Lemmatization): 0.786\n",
      "Classicication Report (No Lemmatization):\n",
      "              precision    recall  f1-score   support\n",
      "\n",
      "           0       0.83      0.89      0.86       368\n",
      "           1       0.61      0.51      0.56       132\n",
      "\n",
      "    accuracy                           0.79       500\n",
      "   macro avg       0.72      0.70      0.71       500\n",
      "weighted avg       0.78      0.79      0.78       500\n",
      "\n",
      "Accuracy (Lemmatization): 0.786\n",
      "Classicication Report (Lemmatization):\n",
      "              precision    recall  f1-score   support\n",
      "\n",
      "           0       0.83      0.89      0.86       368\n",
      "           1       0.62      0.50      0.55       132\n",
      "\n",
      "    accuracy                           0.79       500\n",
      "   macro avg       0.72      0.69      0.71       500\n",
      "weighted avg       0.78      0.79      0.78       500\n",
      "\n"
     ]
    }
   ],
   "source": [
    "tfidf_vect = TfidfVectorizer(stop_words='english')\n",
    "\n",
    "X_no_lem_train_tdidf = tfidf_vect.fit_transform(X_no_lem_train)\n",
    "X_no_lem_test_tdidf = tfidf_vect.transform(X_no_lem_test)\n",
    "\n",
    "X_lem_train_tdidf = tfidf_vect.fit_transform(X_lem_train)\n",
    "X_lem_test_tdidf = tfidf_vect.transform(X_lem_test)\n",
    "\n",
    "# Naive Bayes Model for No Lemmatization\n",
    "nb_no_lem_tdidf = MultinomialNB()\n",
    "nb_no_lem_tdidf.fit(X_no_lem_train_tdidf, y_train)\n",
    "\n",
    "# Naive Bayes Model for Lemmatization\n",
    "nb_lem_tdidf = MultinomialNB()\n",
    "nb_lem_tdidf.fit(X_lem_train_tdidf, y_train)\n",
    "\n",
    "# Prediction and Evaluation\n",
    "y_pred_no_lem_tdidf = nb_no_lem.predict(X_no_lem_test_tdidf)\n",
    "y_pred_lem_tdidf = nb_lem.predict(X_lem_test_tdidf)\n",
    "print(\"Accuracy (No Lemmatization):\", accuracy_score(y_test, y_pred_no_lem_tdidf))\n",
    "print(\"Classicication Report (No Lemmatization):\")\n",
    "print(classification_report(y_test, y_pred_no_lem_tdidf))\n",
    "print(\"Accuracy (Lemmatization):\", accuracy_score(y_test, y_pred_lem_tdidf))\n",
    "print(\"Classicication Report (Lemmatization):\")\n",
    "print(classification_report(y_test, y_pred_lem_tdidf))"
   ]
  },
  {
   "cell_type": "markdown",
   "metadata": {},
   "source": [
    "**By comparing the results, I decide to continue with the no lemmatization data.**\n",
    "\n",
    "For each vectorizer, the no lemmatization version performs better by having higher recall and f1 score."
   ]
  },
  {
   "cell_type": "markdown",
   "metadata": {},
   "source": [
    "### Hyperparameter Tuning"
   ]
  },
  {
   "cell_type": "markdown",
   "metadata": {},
   "source": [
    "In this step, I will find out the best n_gram and the best vectorizer for this dataset."
   ]
  },
  {
   "cell_type": "code",
   "execution_count": 55,
   "metadata": {},
   "outputs": [
    {
     "name": "stdout",
     "output_type": "stream",
     "text": [
      "Fitting 5 folds for each of 8 candidates, totalling 40 fits\n",
      "[CV] END vect=CountVectorizer(stop_words='english'), vect__ngram_range=(1, 1); total time=   0.6s\n",
      "[CV] END vect=CountVectorizer(stop_words='english'), vect__ngram_range=(1, 1); total time=   0.6s\n",
      "[CV] END vect=CountVectorizer(stop_words='english'), vect__ngram_range=(1, 1); total time=   0.6s\n",
      "[CV] END vect=CountVectorizer(stop_words='english'), vect__ngram_range=(1, 1); total time=   0.7s\n",
      "[CV] END vect=CountVectorizer(stop_words='english'), vect__ngram_range=(1, 1); total time=   0.6s\n",
      "[CV] END vect=CountVectorizer(stop_words='english'), vect__ngram_range=(1, 2); total time=   1.9s\n",
      "[CV] END vect=CountVectorizer(stop_words='english'), vect__ngram_range=(1, 2); total time=   1.9s\n",
      "[CV] END vect=CountVectorizer(stop_words='english'), vect__ngram_range=(2, 2); total time=   1.5s\n",
      "[CV] END vect=CountVectorizer(stop_words='english'), vect__ngram_range=(1, 2); total time=   2.0s\n",
      "[CV] END vect=CountVectorizer(stop_words='english'), vect__ngram_range=(2, 2); total time=   1.5s\n",
      "[CV] END vect=CountVectorizer(stop_words='english'), vect__ngram_range=(2, 2); total time=   1.5s\n",
      "[CV] END vect=CountVectorizer(stop_words='english'), vect__ngram_range=(1, 2); total time=   1.8s\n",
      "[CV] END vect=CountVectorizer(stop_words='english'), vect__ngram_range=(1, 2); total time=   1.8s\n",
      "[CV] END vect=TfidfVectorizer(stop_words='english'), vect__ngram_range=(1, 1); total time=   0.5s\n",
      "[CV] END vect=CountVectorizer(stop_words='english'), vect__ngram_range=(2, 2); total time=   1.4s\n",
      "[CV] END vect=CountVectorizer(stop_words='english'), vect__ngram_range=(2, 2); total time=   1.4s\n",
      "[CV] END vect=TfidfVectorizer(stop_words='english'), vect__ngram_range=(1, 1); total time=   0.6s\n",
      "[CV] END vect=TfidfVectorizer(stop_words='english'), vect__ngram_range=(1, 1); total time=   0.6s\n",
      "[CV] END vect=TfidfVectorizer(stop_words='english'), vect__ngram_range=(1, 1); total time=   0.7s\n",
      "[CV] END vect=TfidfVectorizer(stop_words='english'), vect__ngram_range=(1, 1); total time=   0.7s\n",
      "[CV] END vect=CountVectorizer(stop_words='english'), vect__ngram_range=(1, 3); total time=   3.8s\n",
      "[CV] END vect=CountVectorizer(stop_words='english'), vect__ngram_range=(1, 3); total time=   3.7s\n",
      "[CV] END vect=CountVectorizer(stop_words='english'), vect__ngram_range=(1, 3); total time=   3.8s\n",
      "[CV] END vect=CountVectorizer(stop_words='english'), vect__ngram_range=(1, 3); total time=   3.8s\n",
      "[CV] END vect=CountVectorizer(stop_words='english'), vect__ngram_range=(1, 3); total time=   3.7s\n",
      "[CV] END vect=TfidfVectorizer(stop_words='english'), vect__ngram_range=(1, 2); total time=   2.1s\n",
      "[CV] END vect=TfidfVectorizer(stop_words='english'), vect__ngram_range=(1, 2); total time=   2.0s\n",
      "[CV] END vect=TfidfVectorizer(stop_words='english'), vect__ngram_range=(1, 2); total time=   2.1s\n",
      "[CV] END vect=TfidfVectorizer(stop_words='english'), vect__ngram_range=(2, 2); total time=   1.4s\n",
      "[CV] END vect=TfidfVectorizer(stop_words='english'), vect__ngram_range=(2, 2); total time=   1.5s\n",
      "[CV] END vect=TfidfVectorizer(stop_words='english'), vect__ngram_range=(2, 2); total time=   1.6s\n",
      "[CV] END vect=TfidfVectorizer(stop_words='english'), vect__ngram_range=(2, 2); total time=   1.5s\n",
      "[CV] END vect=TfidfVectorizer(stop_words='english'), vect__ngram_range=(2, 2); total time=   1.5s\n",
      "[CV] END vect=TfidfVectorizer(stop_words='english'), vect__ngram_range=(1, 2); total time=   1.9s\n",
      "[CV] END vect=TfidfVectorizer(stop_words='english'), vect__ngram_range=(1, 2); total time=   2.0s\n",
      "[CV] END vect=TfidfVectorizer(stop_words='english'), vect__ngram_range=(1, 3); total time=   3.0s\n",
      "[CV] END vect=TfidfVectorizer(stop_words='english'), vect__ngram_range=(1, 3); total time=   2.5s\n",
      "[CV] END vect=TfidfVectorizer(stop_words='english'), vect__ngram_range=(1, 3); total time=   2.6s\n",
      "[CV] END vect=TfidfVectorizer(stop_words='english'), vect__ngram_range=(1, 3); total time=   2.5s\n",
      "[CV] END vect=TfidfVectorizer(stop_words='english'), vect__ngram_range=(1, 3); total time=   2.4s\n",
      "Best Score: 0.7905000000000001\n",
      "Best Parameters set:\n",
      "\tvect: CountVectorizer(stop_words='english')\n",
      "\tvect__ngram_range: (1, 1)\n"
     ]
    }
   ],
   "source": [
    "pipeline = Pipeline([\n",
    "    ('vect', CountVectorizer(stop_words='english')),\n",
    "    ('clf', MultinomialNB()),\n",
    "])\n",
    "\n",
    "parameters = {\n",
    "    'vect__ngram_range': [(1, 1), (1, 2), (2, 2), (1, 3)],  # unigrams, bigrams, uni+bi, uni+bi+tri\n",
    "    'vect': [CountVectorizer(stop_words='english'), TfidfVectorizer(stop_words='english')],  # Testing both vectorizers\n",
    "}\n",
    "\n",
    "grid_search = GridSearchCV(pipeline, parameters, cv=5, n_jobs=-1, verbose=2)\n",
    "\n",
    "# Assuming X_no_lem_train and y_train are your training data and labels\n",
    "grid_search.fit(X_no_lem_train, y_train)\n",
    "\n",
    "print(\"Best Score: %s\" % grid_search.best_score_)\n",
    "print(\"Best Parameters set:\")\n",
    "best_parameters = grid_search.best_estimator_.get_params()\n",
    "for param_name in sorted(parameters.keys()):\n",
    "    print(\"\\t%s: %r\" % (param_name, best_parameters[param_name]))"
   ]
  },
  {
   "cell_type": "code",
   "execution_count": 57,
   "metadata": {},
   "outputs": [
    {
     "name": "stdout",
     "output_type": "stream",
     "text": [
      "Accuracy: 0.786\n",
      "Classicication Report:\n",
      "              precision    recall  f1-score   support\n",
      "\n",
      "           0       0.88      0.82      0.85       368\n",
      "           1       0.58      0.68      0.63       132\n",
      "\n",
      "    accuracy                           0.79       500\n",
      "   macro avg       0.73      0.75      0.74       500\n",
      "weighted avg       0.80      0.79      0.79       500\n",
      "\n"
     ]
    }
   ],
   "source": [
    "pipeline = Pipeline([\n",
    "    ('vect', CountVectorizer(stop_words='english', ngram_range=(1, 1))),\n",
    "    ('clf', MultinomialNB()),\n",
    "])\n",
    "\n",
    "pipeline.fit(X_no_lem_train, y_train)\n",
    "y_pred = pipeline.predict(X_no_lem_test)\n",
    "print(\"Accuracy:\", accuracy_score(y_test, y_pred))\n",
    "print(\"Classicication Report:\")\n",
    "print(classification_report(y_test, y_pred))"
   ]
  },
  {
   "cell_type": "markdown",
   "metadata": {},
   "source": [
    "# Final Model Accuracy: 0.786"
   ]
  },
  {
   "cell_type": "markdown",
   "metadata": {},
   "source": [
    "# Final Model Confusion Matrix"
   ]
  },
  {
   "cell_type": "code",
   "execution_count": 58,
   "metadata": {},
   "outputs": [
    {
     "data": {
      "image/png": "[encoded data removed]",
      "text/plain": [
       "<Figure size 640x480 with 2 Axes>"
      ]
     },
     "metadata": {},
     "output_type": "display_data"
    }
   ],
   "source": [
    "palette = ['#E8C872', '#FFF3CF', '#C9D7DD', '#637A9F']\n",
    "cm = confusion_matrix(y_test, y_pred)\n",
    "sns.heatmap(cm, annot=True, fmt=\"d\", cmap=sns.color_palette(palette, as_cmap=True), \n",
    "            xticklabels=['Low Salary', 'High Salary'], yticklabels=['Low Salary', 'High Salary'])\n",
    "\n",
    "plt.ylabel('Actual')\n",
    "plt.xlabel('Predicted')\n",
    "plt.title('Naive Bayes Confusion Matrix')\n",
    "plt.show()"
   ]
  },
  {
   "cell_type": "code",
   "execution_count": 59,
   "metadata": {},
   "outputs": [
    {
     "name": "stdout",
     "output_type": "stream",
     "text": [
      "Top 10 words for class 0 (low salary): ['business', 'working', 'skills', 'manager', 'sales', 'team', 'role', 'jobs', 'work', 'experience']\n",
      "Top 10 words for class 1 (high salary): ['skills', 'work', 'development', 'management', 'manager', 'jobs', 'role', 'team', 'business', 'experience']\n"
     ]
    }
   ],
   "source": [
    "# Access the vectorizer and classifier from the pipeline\n",
    "vectorizer = pipeline.named_steps['vect']\n",
    "classifier = pipeline.named_steps['clf']\n",
    "\n",
    "# Get feature names\n",
    "feature_names = vectorizer.get_feature_names_out()\n",
    "\n",
    "# Get log probability of features given a class\n",
    "low_salary_prob_sorted = classifier.feature_log_prob_[0, :].argsort()\n",
    "high_salary_prob_sorted = classifier.feature_log_prob_[1, :].argsort()\n",
    "\n",
    "# Top 10 words for each class\n",
    "top10_low = [feature_names[i] for i in low_salary_prob_sorted[-10:]]\n",
    "top10_high = [feature_names[i] for i in high_salary_prob_sorted[-10:]]\n",
    "\n",
    "print(\"Top 10 words for class 0 (low salary):\", top10_low)\n",
    "print(\"Top 10 words for class 1 (high salary):\", top10_high)"
   ]
  },
  {
   "cell_type": "code",
   "execution_count": null,
   "metadata": {},
   "outputs": [],
   "source": []
  }
 ],
 "metadata": {
  "kernelspec": {
   "display_name": "Python 3",
   "language": "python",
   "name": "python3"
  },
  "language_info": {
   "codemirror_mode": {
    "name": "ipython",
    "version": 3
   },
   "file_extension": ".py",
   "mimetype": "text/x-python",
   "name": "python",
   "nbconvert_exporter": "python",
   "pygments_lexer": "ipython3",
   "version": "3.12.1"
  }
 },
 "nbformat": 4,
 "nbformat_minor": 2
}
