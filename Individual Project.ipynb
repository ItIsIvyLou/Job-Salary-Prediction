{
 "cells": [
  {
   "cell_type": "markdown",
   "metadata": {},
   "source": [
    "# Ivy Individual Project"
   ]
  },
  {
   "cell_type": "markdown",
   "metadata": {},
   "source": [
    "Dataset URL: http://www.kaggle.com/c/job-salary-prediction"
   ]
  },
  {
   "cell_type": "markdown",
   "metadata": {},
   "source": [
    "## Libraries"
   ]
  },
  {
   "cell_type": "code",
   "execution_count": 3,
   "metadata": {},
   "outputs": [],
   "source": [
    "import pandas as pd\n",
    "import numpy as np\n",
    "import seaborn as sns\n",
    "import matplotlib.pyplot as plt\n",
    "from sklearn.model_selection import train_test_split, StratifiedShuffleSplit\n",
    "import nltk\n",
    "from sklearn.feature_extraction.text import TfidfVectorizer, CountVectorizer\n",
    "from sklearn.pipeline import make_pipeline\n",
    "from sklearn.naive_bayes import MultinomialNB\n",
    "from sklearn.metrics import confusion_matrix\n",
    "from nltk.tokenize import RegexpTokenizer\n",
    "from nltk.stem import WordNetLemmatizer,PorterStemmer\n",
    "from nltk.corpus import stopwords"
   ]
  },
  {
   "cell_type": "code",
   "execution_count": 2,
   "metadata": {},
   "outputs": [],
   "source": [
    "train_data = pd.read_csv(\"Train_rev1.csv\")\n",
    "selected_data = train_data.sample(n=2500, random_state=42) # randomly select 2500 data points\n",
    "\n",
    "# selected_data.to_csv(\"selected_salary_data.csv\"bb, index=False) ## Save to new data file to prevent using the big data every time"
   ]
  },
  {
   "cell_type": "code",
   "execution_count": 5,
   "metadata": {},
   "outputs": [
    {
     "name": "stdout",
     "output_type": "stream",
     "text": [
      "<class 'pandas.core.frame.DataFrame'>\n",
      "RangeIndex: 2500 entries, 0 to 2499\n",
      "Data columns (total 12 columns):\n",
      " #   Column              Non-Null Count  Dtype \n",
      "---  ------              --------------  ----- \n",
      " 0   Id                  2500 non-null   int64 \n",
      " 1   Title               2500 non-null   object\n",
      " 2   FullDescription     2500 non-null   object\n",
      " 3   LocationRaw         2500 non-null   object\n",
      " 4   LocationNormalized  2500 non-null   object\n",
      " 5   ContractType        685 non-null    object\n",
      " 6   ContractTime        1859 non-null   object\n",
      " 7   Company             2157 non-null   object\n",
      " 8   Category            2500 non-null   object\n",
      " 9   SalaryRaw           2500 non-null   object\n",
      " 10  SalaryNormalized    2500 non-null   int64 \n",
      " 11  SourceName          2500 non-null   object\n",
      "dtypes: int64(2), object(10)\n",
      "memory usage: 234.5+ KB\n"
     ]
    }
   ],
   "source": [
    "data = pd.read_csv(\"selected_salary_data.csv\")\n",
    "data.info()"
   ]
  },
  {
   "cell_type": "code",
   "execution_count": 4,
   "metadata": {},
   "outputs": [
    {
     "data": {
      "text/html": [
       "<div>\n",
       "<style scoped>\n",
       "    .dataframe tbody tr th:only-of-type {\n",
       "        vertical-align: middle;\n",
       "    }\n",
       "\n",
       "    .dataframe tbody tr th {\n",
       "        vertical-align: top;\n",
       "    }\n",
       "\n",
       "    .dataframe thead th {\n",
       "        text-align: right;\n",
       "    }\n",
       "</style>\n",
       "<table border=\"1\" class=\"dataframe\">\n",
       "  <thead>\n",
       "    <tr style=\"text-align: right;\">\n",
       "      <th></th>\n",
       "      <th>Id</th>\n",
       "      <th>Title</th>\n",
       "      <th>FullDescription</th>\n",
       "      <th>LocationRaw</th>\n",
       "      <th>LocationNormalized</th>\n",
       "      <th>ContractType</th>\n",
       "      <th>ContractTime</th>\n",
       "      <th>Company</th>\n",
       "      <th>Category</th>\n",
       "      <th>SalaryRaw</th>\n",
       "      <th>SalaryNormalized</th>\n",
       "      <th>SourceName</th>\n",
       "    </tr>\n",
       "  </thead>\n",
       "  <tbody>\n",
       "    <tr>\n",
       "      <th>0</th>\n",
       "      <td>68062598</td>\n",
       "      <td>Business Account Manager</td>\n",
       "      <td>Business Account Manager  Plumbing Heating Pro...</td>\n",
       "      <td>South West</td>\n",
       "      <td>South West London</td>\n",
       "      <td>NaN</td>\n",
       "      <td>permanent</td>\n",
       "      <td>BMS Sales Specialists</td>\n",
       "      <td>Sales Jobs</td>\n",
       "      <td>22000 - 25000 per annum + Car,Mobile,Pension,L...</td>\n",
       "      <td>23500</td>\n",
       "      <td>totaljobs.com</td>\n",
       "    </tr>\n",
       "    <tr>\n",
       "      <th>1</th>\n",
       "      <td>69622111</td>\n",
       "      <td>Staff Nurse RGN/RMN  Newtown Abbey  Nights  Ne...</td>\n",
       "      <td>Job Title; Staff Nurse RGN/RMN – NightsLocatio...</td>\n",
       "      <td>Newtownabbey</td>\n",
       "      <td>Newtownabbey</td>\n",
       "      <td>full_time</td>\n",
       "      <td>NaN</td>\n",
       "      <td>Regional Recruitment Services</td>\n",
       "      <td>Healthcare &amp; Nursing Jobs</td>\n",
       "      <td>12.00/Hour</td>\n",
       "      <td>23040</td>\n",
       "      <td>staffnurse.com</td>\n",
       "    </tr>\n",
       "    <tr>\n",
       "      <th>2</th>\n",
       "      <td>66664026</td>\n",
       "      <td>Community Fundraising Manager</td>\n",
       "      <td>This dynamic international development charity...</td>\n",
       "      <td>London</td>\n",
       "      <td>London</td>\n",
       "      <td>full_time</td>\n",
       "      <td>permanent</td>\n",
       "      <td>TPP Not for Profit</td>\n",
       "      <td>Charity &amp; Voluntary Jobs</td>\n",
       "      <td>33300 - 36400 per annum</td>\n",
       "      <td>34850</td>\n",
       "      <td>Third Sector Jobs</td>\n",
       "    </tr>\n",
       "    <tr>\n",
       "      <th>3</th>\n",
       "      <td>71015241</td>\n",
       "      <td>Conveyancing Executive</td>\n",
       "      <td>Large regional law firm require a residential ...</td>\n",
       "      <td>Hampshire</td>\n",
       "      <td>Hampshire</td>\n",
       "      <td>full_time</td>\n",
       "      <td>permanent</td>\n",
       "      <td>PTP Consulting</td>\n",
       "      <td>Legal Jobs</td>\n",
       "      <td>From 18,000 to 27,000 per year</td>\n",
       "      <td>22500</td>\n",
       "      <td>TotallyLegal</td>\n",
       "    </tr>\n",
       "    <tr>\n",
       "      <th>4</th>\n",
       "      <td>71428553</td>\n",
       "      <td>Investment Compliance Analyst</td>\n",
       "      <td>This individual will work closely with the bus...</td>\n",
       "      <td>London South East</td>\n",
       "      <td>South East London</td>\n",
       "      <td>NaN</td>\n",
       "      <td>permanent</td>\n",
       "      <td>Michael Page Financial Services</td>\n",
       "      <td>Accounting &amp; Finance Jobs</td>\n",
       "      <td>50000 to 60000 per annum</td>\n",
       "      <td>55000</td>\n",
       "      <td>totaljobs.com</td>\n",
       "    </tr>\n",
       "  </tbody>\n",
       "</table>\n",
       "</div>"
      ],
      "text/plain": [
       "         Id                                              Title  \\\n",
       "0  68062598                           Business Account Manager   \n",
       "1  69622111  Staff Nurse RGN/RMN  Newtown Abbey  Nights  Ne...   \n",
       "2  66664026                      Community Fundraising Manager   \n",
       "3  71015241                             Conveyancing Executive   \n",
       "4  71428553                      Investment Compliance Analyst   \n",
       "\n",
       "                                     FullDescription        LocationRaw  \\\n",
       "0  Business Account Manager  Plumbing Heating Pro...         South West   \n",
       "1  Job Title; Staff Nurse RGN/RMN – NightsLocatio...       Newtownabbey   \n",
       "2  This dynamic international development charity...             London   \n",
       "3  Large regional law firm require a residential ...          Hampshire   \n",
       "4  This individual will work closely with the bus...  London South East   \n",
       "\n",
       "  LocationNormalized ContractType ContractTime  \\\n",
       "0  South West London          NaN    permanent   \n",
       "1       Newtownabbey    full_time          NaN   \n",
       "2             London    full_time    permanent   \n",
       "3          Hampshire    full_time    permanent   \n",
       "4  South East London          NaN    permanent   \n",
       "\n",
       "                           Company                   Category  \\\n",
       "0            BMS Sales Specialists                 Sales Jobs   \n",
       "1    Regional Recruitment Services  Healthcare & Nursing Jobs   \n",
       "2               TPP Not for Profit   Charity & Voluntary Jobs   \n",
       "3                   PTP Consulting                 Legal Jobs   \n",
       "4  Michael Page Financial Services  Accounting & Finance Jobs   \n",
       "\n",
       "                                           SalaryRaw  SalaryNormalized  \\\n",
       "0  22000 - 25000 per annum + Car,Mobile,Pension,L...             23500   \n",
       "1                                         12.00/Hour             23040   \n",
       "2                            33300 - 36400 per annum             34850   \n",
       "3                     From 18,000 to 27,000 per year             22500   \n",
       "4                           50000 to 60000 per annum             55000   \n",
       "\n",
       "          SourceName  \n",
       "0      totaljobs.com  \n",
       "1     staffnurse.com  \n",
       "2  Third Sector Jobs  \n",
       "3       TotallyLegal  \n",
       "4      totaljobs.com  "
      ]
     },
     "execution_count": 4,
     "metadata": {},
     "output_type": "execute_result"
    }
   ],
   "source": [
    "data.head(5)"
   ]
  },
  {
   "cell_type": "code",
   "execution_count": 6,
   "metadata": {},
   "outputs": [
    {
     "data": {
      "text/html": [
       "<div>\n",
       "<style scoped>\n",
       "    .dataframe tbody tr th:only-of-type {\n",
       "        vertical-align: middle;\n",
       "    }\n",
       "\n",
       "    .dataframe tbody tr th {\n",
       "        vertical-align: top;\n",
       "    }\n",
       "\n",
       "    .dataframe thead th {\n",
       "        text-align: right;\n",
       "    }\n",
       "</style>\n",
       "<table border=\"1\" class=\"dataframe\">\n",
       "  <thead>\n",
       "    <tr style=\"text-align: right;\">\n",
       "      <th></th>\n",
       "      <th>Id</th>\n",
       "      <th>SalaryNormalized</th>\n",
       "    </tr>\n",
       "  </thead>\n",
       "  <tbody>\n",
       "    <tr>\n",
       "      <th>count</th>\n",
       "      <td>2.500000e+03</td>\n",
       "      <td>2500.000000</td>\n",
       "    </tr>\n",
       "    <tr>\n",
       "      <th>mean</th>\n",
       "      <td>6.973466e+07</td>\n",
       "      <td>33764.077200</td>\n",
       "    </tr>\n",
       "    <tr>\n",
       "      <th>std</th>\n",
       "      <td>2.976468e+06</td>\n",
       "      <td>16670.019292</td>\n",
       "    </tr>\n",
       "    <tr>\n",
       "      <th>min</th>\n",
       "      <td>2.957032e+07</td>\n",
       "      <td>5088.000000</td>\n",
       "    </tr>\n",
       "    <tr>\n",
       "      <th>25%</th>\n",
       "      <td>6.869990e+07</td>\n",
       "      <td>21500.000000</td>\n",
       "    </tr>\n",
       "    <tr>\n",
       "      <th>50%</th>\n",
       "      <td>6.993177e+07</td>\n",
       "      <td>30000.000000</td>\n",
       "    </tr>\n",
       "    <tr>\n",
       "      <th>75%</th>\n",
       "      <td>7.160582e+07</td>\n",
       "      <td>42500.000000</td>\n",
       "    </tr>\n",
       "    <tr>\n",
       "      <th>max</th>\n",
       "      <td>7.270293e+07</td>\n",
       "      <td>100000.000000</td>\n",
       "    </tr>\n",
       "  </tbody>\n",
       "</table>\n",
       "</div>"
      ],
      "text/plain": [
       "                 Id  SalaryNormalized\n",
       "count  2.500000e+03       2500.000000\n",
       "mean   6.973466e+07      33764.077200\n",
       "std    2.976468e+06      16670.019292\n",
       "min    2.957032e+07       5088.000000\n",
       "25%    6.869990e+07      21500.000000\n",
       "50%    6.993177e+07      30000.000000\n",
       "75%    7.160582e+07      42500.000000\n",
       "max    7.270293e+07     100000.000000"
      ]
     },
     "execution_count": 6,
     "metadata": {},
     "output_type": "execute_result"
    }
   ],
   "source": [
    "data.describe()"
   ]
  },
  {
   "cell_type": "markdown",
   "metadata": {},
   "source": [
    "## EDA & Preprocess"
   ]
  },
  {
   "cell_type": "markdown",
   "metadata": {},
   "source": [
    "### Categorical Variables"
   ]
  },
  {
   "cell_type": "code",
   "execution_count": 18,
   "metadata": {},
   "outputs": [
    {
     "name": "stdout",
     "output_type": "stream",
     "text": [
      "Number of Unique Location: 493 , Location Category (Top 5):\n",
      "LocationNormalized\n",
      "UK                   452\n",
      "London               295\n",
      "South East London    104\n",
      "The City              67\n",
      "Manchester            39\n",
      "Name: count, dtype: int64\n",
      "-----------------------\n",
      "Contract Type Category:\n",
      "ContractType\n",
      "full_time    603\n",
      "part_time     82\n",
      "Name: count, dtype: int64\n",
      "-----------------------\n",
      "Contract Time Category:\n",
      "ContractTime\n",
      "permanent    1585\n",
      "contract      274\n",
      "Name: count, dtype: int64\n",
      "-----------------------\n",
      "Number of Unique Source: 125 , Source Category (Top 5):\n",
      "SourceName\n",
      "totaljobs.com       487\n",
      "cv-library.co.uk    353\n",
      "Jobcentre Plus      190\n",
      "jobsite.co.uk       119\n",
      "cwjobs.co.uk         72\n",
      "Name: count, dtype: int64\n"
     ]
    }
   ],
   "source": [
    "unique_location = data['LocationNormalized'].nunique()\n",
    "unique_source = data['SourceName'].nunique()\n",
    "\n",
    "location = data['LocationNormalized'].value_counts()\n",
    "contract_type = data['ContractType'].value_counts()\n",
    "contract_time = data['ContractTime'].value_counts()\n",
    "source = data['SourceName'].value_counts()\n",
    "\n",
    "print('Number of Unique Location:', unique_location, ', Location Category (Top 5):')\n",
    "print(location.head(5))\n",
    "print('-----------------------')\n",
    "print('Contract Type Category:')\n",
    "print(contract_type)\n",
    "print('-----------------------')\n",
    "print('Contract Time Category:')\n",
    "print(contract_time)\n",
    "print('-----------------------')\n",
    "print('Number of Unique Source:', unique_source, ', Source Category (Top 5):')\n",
    "print(source.head(5))"
   ]
  },
  {
   "cell_type": "markdown",
   "metadata": {},
   "source": [
    "### Missing Values"
   ]
  },
  {
   "cell_type": "code",
   "execution_count": 21,
   "metadata": {},
   "outputs": [
    {
     "name": "stdout",
     "output_type": "stream",
     "text": [
      "Missing values:\n",
      "Id                       0\n",
      "Title                    0\n",
      "FullDescription          0\n",
      "LocationRaw              0\n",
      "LocationNormalized       0\n",
      "ContractType          1815\n",
      "ContractTime           641\n",
      "Company                343\n",
      "Category                 0\n",
      "SalaryRaw                0\n",
      "SalaryNormalized         0\n",
      "SourceName               0\n",
      "dtype: int64\n"
     ]
    }
   ],
   "source": [
    "missing_value = data.isna().sum()\n",
    "print('Missing values:')\n",
    "print(missing_value)"
   ]
  },
  {
   "cell_type": "code",
   "execution_count": 72,
   "metadata": {},
   "outputs": [
    {
     "name": "stdout",
     "output_type": "stream",
     "text": [
      "Missing values:\n",
      "Id                    0\n",
      "Title                 0\n",
      "FullDescription       0\n",
      "LocationRaw           0\n",
      "LocationNormalized    0\n",
      "ContractType          0\n",
      "ContractTime          0\n",
      "Company               0\n",
      "Category              0\n",
      "SalaryRaw             0\n",
      "SalaryNormalized      0\n",
      "SourceName            0\n",
      "dtype: int64\n"
     ]
    }
   ],
   "source": [
    "data.fillna('', inplace=True)\n",
    "missing_value = data.isna().sum()\n",
    "print('Missing values:')\n",
    "print(missing_value)"
   ]
  },
  {
   "cell_type": "code",
   "execution_count": 73,
   "metadata": {},
   "outputs": [
    {
     "data": {
      "image/png": "[encoded data removed]",
      "text/plain": [
       "<Figure size 800x300 with 1 Axes>"
      ]
     },
     "metadata": {},
     "output_type": "display_data"
    }
   ],
   "source": [
    "Q1 = data['SalaryNormalized'].quantile(0.25)\n",
    "Q2 = data['SalaryNormalized'].quantile(0.5)\n",
    "Q3 = data['SalaryNormalized'].quantile(0.75)\n",
    "\n",
    "plt.figure(figsize=(8, 3))\n",
    "plt.hist(data['SalaryNormalized'], bins=30, color='darkgrey', edgecolor='black')\n",
    "plt.title('Distribution of Normalized Salary')\n",
    "plt.xlabel('Normalized Salary')\n",
    "plt.ylabel('Frequency')\n",
    "\n",
    "plt.axvline(x=Q1, color='palevioletred', linestyle='--', label='Q1: {}'.format(int(Q1)))\n",
    "plt.axvline(x=Q2, color='cornflowerblue', linestyle='--', label='Q2: {}'.format(int(Q2)))\n",
    "plt.axvline(x=Q3, color='yellowgreen', linestyle='--', label='Q3: {}'.format(int(Q3)))\n",
    "\n",
    "plt.legend()\n",
    "plt.show()"
   ]
  },
  {
   "cell_type": "markdown",
   "metadata": {},
   "source": [
    "### Identify high/low salary"
   ]
  },
  {
   "cell_type": "code",
   "execution_count": 74,
   "metadata": {},
   "outputs": [
    {
     "data": {
      "text/html": [
       "<div>\n",
       "<style scoped>\n",
       "    .dataframe tbody tr th:only-of-type {\n",
       "        vertical-align: middle;\n",
       "    }\n",
       "\n",
       "    .dataframe tbody tr th {\n",
       "        vertical-align: top;\n",
       "    }\n",
       "\n",
       "    .dataframe thead th {\n",
       "        text-align: right;\n",
       "    }\n",
       "</style>\n",
       "<table border=\"1\" class=\"dataframe\">\n",
       "  <thead>\n",
       "    <tr style=\"text-align: right;\">\n",
       "      <th></th>\n",
       "      <th>Id</th>\n",
       "      <th>Title</th>\n",
       "      <th>FullDescription</th>\n",
       "      <th>LocationRaw</th>\n",
       "      <th>LocationNormalized</th>\n",
       "      <th>ContractType</th>\n",
       "      <th>ContractTime</th>\n",
       "      <th>Company</th>\n",
       "      <th>Category</th>\n",
       "      <th>SalaryRaw</th>\n",
       "      <th>SalaryNormalized</th>\n",
       "      <th>SourceName</th>\n",
       "      <th>HighSalary</th>\n",
       "    </tr>\n",
       "  </thead>\n",
       "  <tbody>\n",
       "    <tr>\n",
       "      <th>0</th>\n",
       "      <td>68062598</td>\n",
       "      <td>Business Account Manager</td>\n",
       "      <td>Business Account Manager  Plumbing Heating Pro...</td>\n",
       "      <td>South West</td>\n",
       "      <td>South West London</td>\n",
       "      <td></td>\n",
       "      <td>permanent</td>\n",
       "      <td>BMS Sales Specialists</td>\n",
       "      <td>Sales Jobs</td>\n",
       "      <td>22000 - 25000 per annum + Car,Mobile,Pension,L...</td>\n",
       "      <td>23500</td>\n",
       "      <td>totaljobs.com</td>\n",
       "      <td>0</td>\n",
       "    </tr>\n",
       "    <tr>\n",
       "      <th>1</th>\n",
       "      <td>69622111</td>\n",
       "      <td>Staff Nurse RGN/RMN  Newtown Abbey  Nights  Ne...</td>\n",
       "      <td>Job Title; Staff Nurse RGN/RMN – NightsLocatio...</td>\n",
       "      <td>Newtownabbey</td>\n",
       "      <td>Newtownabbey</td>\n",
       "      <td>full_time</td>\n",
       "      <td></td>\n",
       "      <td>Regional Recruitment Services</td>\n",
       "      <td>Healthcare &amp; Nursing Jobs</td>\n",
       "      <td>12.00/Hour</td>\n",
       "      <td>23040</td>\n",
       "      <td>staffnurse.com</td>\n",
       "      <td>0</td>\n",
       "    </tr>\n",
       "    <tr>\n",
       "      <th>2</th>\n",
       "      <td>66664026</td>\n",
       "      <td>Community Fundraising Manager</td>\n",
       "      <td>This dynamic international development charity...</td>\n",
       "      <td>London</td>\n",
       "      <td>London</td>\n",
       "      <td>full_time</td>\n",
       "      <td>permanent</td>\n",
       "      <td>TPP Not for Profit</td>\n",
       "      <td>Charity &amp; Voluntary Jobs</td>\n",
       "      <td>33300 - 36400 per annum</td>\n",
       "      <td>34850</td>\n",
       "      <td>Third Sector Jobs</td>\n",
       "      <td>0</td>\n",
       "    </tr>\n",
       "  </tbody>\n",
       "</table>\n",
       "</div>"
      ],
      "text/plain": [
       "         Id                                              Title  \\\n",
       "0  68062598                           Business Account Manager   \n",
       "1  69622111  Staff Nurse RGN/RMN  Newtown Abbey  Nights  Ne...   \n",
       "2  66664026                      Community Fundraising Manager   \n",
       "\n",
       "                                     FullDescription   LocationRaw  \\\n",
       "0  Business Account Manager  Plumbing Heating Pro...    South West   \n",
       "1  Job Title; Staff Nurse RGN/RMN – NightsLocatio...  Newtownabbey   \n",
       "2  This dynamic international development charity...        London   \n",
       "\n",
       "  LocationNormalized ContractType ContractTime                        Company  \\\n",
       "0  South West London                 permanent          BMS Sales Specialists   \n",
       "1       Newtownabbey    full_time               Regional Recruitment Services   \n",
       "2             London    full_time    permanent             TPP Not for Profit   \n",
       "\n",
       "                    Category  \\\n",
       "0                 Sales Jobs   \n",
       "1  Healthcare & Nursing Jobs   \n",
       "2   Charity & Voluntary Jobs   \n",
       "\n",
       "                                           SalaryRaw  SalaryNormalized  \\\n",
       "0  22000 - 25000 per annum + Car,Mobile,Pension,L...             23500   \n",
       "1                                         12.00/Hour             23040   \n",
       "2                            33300 - 36400 per annum             34850   \n",
       "\n",
       "          SourceName  HighSalary  \n",
       "0      totaljobs.com           0  \n",
       "1     staffnurse.com           0  \n",
       "2  Third Sector Jobs           0  "
      ]
     },
     "execution_count": 74,
     "metadata": {},
     "output_type": "execute_result"
    }
   ],
   "source": [
    "process_data = data.copy()\n",
    "\n",
    "process_data['HighSalary'] = (process_data['SalaryNormalized'] >= Q3).astype(int)\n",
    "\n",
    "process_data.head(3)"
   ]
  },
  {
   "cell_type": "markdown",
   "metadata": {},
   "source": [
    "### Feature selection"
   ]
  },
  {
   "cell_type": "code",
   "execution_count": 83,
   "metadata": {},
   "outputs": [],
   "source": [
    "process_data['Text'] = process_data['Title'] + ' ' + process_data['FullDescription'] + ' ' + \\\n",
    "    process_data['LocationNormalized'] + ' ' + process_data['ContractType'] + ' ' + \\\n",
    "    process_data['ContractTime'] + ' ' + process_data['Category'] + ' ' + process_data['SourceName'] "
   ]
  },
  {
   "cell_type": "markdown",
   "metadata": {},
   "source": [
    "### Data cleaning"
   ]
  },
  {
   "cell_type": "code",
   "execution_count": null,
   "metadata": {},
   "outputs": [],
   "source": [
    "clean_data = process_data.copy()\n",
    "stop_words = ['in', 'of', 'at', 'a', 'the']\n",
    "\n",
    "def pre_process(text):\n",
    "    \n",
    "    # lowercase\n",
    "    text=str(text).lower()\n",
    "\n",
    "    # remove numbers followed by dot (like, \"1.\", \"2.\", etc)\n",
    "    text=re.sub('[^\\s]*[0-9]+[^\\s]*', \"\", text)\n",
    "    \n",
    "    #remove tags\n",
    "    text=re.sub(\"&lt;/?.*?&gt;\",\" &lt;&gt; \",text)\n",
    "\n",
    "    #remove urls\n",
    "    text=re.sub(r'[^\\s]*(\\.com|www\\.|\\.co\\.uk)[^\\s]*', \"\", text)\n",
    "\n",
    "    #remove stars\n",
    "    text=re.sub('[^\\s]*[\\*]+[^\\s]*', \"\", text)\n",
    "    \n",
    "    # correct some misspellings and/or replace some text with others that might be easier to handle\n",
    "    text=text.replace('do not', \"don't\")\n",
    "    \n",
    "    # remove special characters except spaces, apostrophes and dots\n",
    "    text=re.sub(r\"[^a-zA-Z0-9.']+\", ' ', text)\n",
    "    \n",
    "    # remove stopwords\n",
    "    text=[word for word in text.split(' ') if word not in stop_words]\n",
    "    \n",
    "    return text"
   ]
  },
  {
   "cell_type": "code",
   "execution_count": null,
   "metadata": {},
   "outputs": [],
   "source": [
    "    # lemmatize\n",
    "    lmtzr = WordNetLemmatizer()\n",
    "    text = ' '.join((lmtzr.lemmatize(i)) for i in text)"
   ]
  },
  {
   "cell_type": "markdown",
   "metadata": {},
   "source": [
    "### Train Test Split"
   ]
  },
  {
   "cell_type": "code",
   "execution_count": 79,
   "metadata": {},
   "outputs": [],
   "source": [
    "X = clean_data['Text']\n",
    "y = clean_data['HighSalary']\n",
    "X_train, X_test, y_train, y_test = train_test_split(X, y, test_size=0.2, random_state=42)"
   ]
  },
  {
   "cell_type": "code",
   "execution_count": null,
   "metadata": {},
   "outputs": [],
   "source": []
  }
 ],
 "metadata": {
  "kernelspec": {
   "display_name": "Python 3",
   "language": "python",
   "name": "python3"
  },
  "language_info": {
   "codemirror_mode": {
    "name": "ipython",
    "version": 3
   },
   "file_extension": ".py",
   "mimetype": "text/x-python",
   "name": "python",
   "nbconvert_exporter": "python",
   "pygments_lexer": "ipython3",
   "version": "3.12.1"
  }
 },
 "nbformat": 4,
 "nbformat_minor": 2
}
